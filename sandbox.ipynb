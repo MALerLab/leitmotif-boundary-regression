{
 "cells": [
  {
   "cell_type": "markdown",
   "metadata": {},
   "source": [
    "* Should the dataset class inherit from torch.utils.data.Dataset?\n",
    "* Where to put idx2motif and such?\n",
    "* should we subdivide all measures (of varying time signitures) the same?\n",
    "* should we leave \"none\" as an explicit class?\n",
    "* how do we boil down version prediction to a single value?\n",
    "* I split the CNN overlap by half. is this correct?"
   ]
  },
  {
   "cell_type": "markdown",
   "metadata": {},
   "source": [
    "clip grad error\n",
    "\n",
    "../aten/src/ATen/native/cuda/NLLLoss2d.cu:103: nll_loss2d_forward_kernel: block: [21,0,0], thread: [644,0,0] Assertion `t >= 0 && t < n_classes` failed.\n",
    "../aten/src/ATen/native/cuda/NLLLoss2d.cu:103: nll_loss2d_forward_kernel: block: [21,0,0], thread: [645,0,0] Assertion `t >= 0 && t < n_classes` failed.\n",
    "../aten/src/ATen/native/cuda/NLLLoss2d.cu:103: nll_loss2d_forward_kernel: block: [6,0,0], thread: [640,0,0] Assertion `t >= 0 && t < n_classes` failed.\n",
    "../aten/src/ATen/native/cuda/NLLLoss2d.cu:103: nll_loss2d_forward_kernel: block: [6,0,0], thread: [641,0,0] Assertion `t >= 0 && t < n_classes` failed.\n",
    "../aten/src/ATen/native/cuda/NLLLoss2d.cu:103: nll_loss2d_forward_kernel: block: [6,0,0], thread: [642,0,0] Assertion `t >= 0 && t < n_classes` failed.\n",
    "../aten/src/ATen/native/cuda/NLLLoss2d.cu:103: nll_loss2d_forward_kernel: block: [6,0,0], thread: [643,0,0] Assertion `t >= 0 && t < n_classes` failed.\n",
    "../aten/src/ATen/native/cuda/NLLLoss2d.cu:103: nll_loss2d_forward_kernel: block: [6,0,0], thread: [644,0,0] Assertion `t >= 0 && t < n_classes` failed.\n",
    "../aten/src/ATen/native/cuda/NLLLoss2d.cu:103: nll_loss2d_forward_kernel: block: [6,0,0], thread: [645,0,0] Assertion `t >= 0 && t < n_classes` failed.\n",
    " 40%|█████████████████████████████████████████████████████████████▌                                                                                            | 10/25 [11:39<17:28, 69.91s/it]\n",
    "Error executing job with overrides: ['cfg.run_name=rnn-adv-version-split']                                                                                                                     \n",
    "Traceback (most recent call last):\n",
    "  File \"/home/sihun/userdata/projects/ring_leitmotif/train.py\", line 168, in main\n",
    "    trainer.train()\n",
    "  File \"/home/sihun/userdata/projects/ring_leitmotif/train.py\", line 82, in train\n",
    "    torch.nn.utils.clip_grad_norm_(self.model.parameters(), 1)\n",
    "  File \"/home/sihun/.pyenv/versions/3.10.11/lib/python3.10/site-packages/torch/nn/utils/clip_grad.py\", line 76, in clip_grad_norm_\n",
    "    torch._foreach_mul_(grads, clip_coef_clamped.to(device))  # type: ignore[call-overload]\n",
    "RuntimeError: CUDA error: device-side assert triggered\n",
    "CUDA kernel errors might be asynchronously reported at some other API call, so the stacktrace below might be incorrect.\n",
    "For debugging consider passing CUDA_LAUNCH_BLOCKING=1.\n",
    "Compile with `TORCH_USE_CUDA_DSA` to enable device-side assertions."
   ]
  },
  {
   "cell_type": "code",
   "execution_count": 2,
   "metadata": {},
   "outputs": [],
   "source": [
    "import random\n",
    "from pathlib import Path\n",
    "import pandas as pd\n",
    "import pickle\n",
    "import torch\n",
    "import torch.nn as nn\n",
    "from tqdm.auto import tqdm"
   ]
  },
  {
   "cell_type": "code",
   "execution_count": 15,
   "metadata": {},
   "outputs": [
    {
     "name": "stdout",
     "output_type": "stream",
     "text": [
      "128.48 MB\n"
     ]
    }
   ],
   "source": [
    "import sys\n",
    "import math\n",
    "\n",
    "# Define the variable\n",
    "my_variable = [1, 2, 3, 4, 5]\n",
    "\n",
    "# Get the memory size of the variable\n",
    "memory_size = sys.getsizeof(cqt_mag)\n",
    "\n",
    "# Convert the memory size to a human-readable format\n",
    "def convert_size(size_bytes):\n",
    "    if size_bytes == 0:\n",
    "        return \"0B\"\n",
    "    size_name = (\"B\", \"KB\", \"MB\", \"GB\", \"TB\", \"PB\", \"EB\", \"ZB\", \"YB\")\n",
    "    i = int(math.floor(math.log(size_bytes, 1024)))\n",
    "    p = math.pow(1024, i)\n",
    "    s = round(size_bytes / p, 2)\n",
    "    return f\"{s} {size_name[i]}\"\n",
    "\n",
    "human_readable_size = convert_size(memory_size)\n",
    "\n",
    "# Print the human-readable memory size\n",
    "print(human_readable_size)\n"
   ]
  },
  {
   "cell_type": "code",
   "execution_count": 13,
   "metadata": {},
   "outputs": [],
   "source": [
    "from pathlib import Path\n",
    "import pickle\n",
    "import pandas as pd\n",
    "import torch\n",
    "from tqdm.auto import tqdm\n",
    "from data_utils import motif2idx, idx2motif, sample_instance_intervals, generate_non_overlapping_intervals, sample_non_overlapping_interval\n",
    "\n",
    "class LeitmotifDataset:\n",
    "    def __init__(self, pkl_path:Path, instances_path:Path, duration_sec=15, duration_samples=646):\n",
    "        self.cqt = {}\n",
    "        self.instances_gt = {}\n",
    "        self.samples = []\n",
    "        self.none_samples = []\n",
    "\n",
    "        print(\"Creating dataset...\")\n",
    "        pkl_fns = sorted(list(pkl_path.glob(\"*.pkl\")))\n",
    "        for fn in tqdm(pkl_fns):\n",
    "            # Load CQT data\n",
    "            with open(fn, \"rb\") as f:\n",
    "                self.cqt[fn.stem] = torch.tensor(pickle.load(f)).T # (time, n_bins)\n",
    "\n",
    "            # Create ground truth instance tensors\n",
    "            self.instances_gt[fn.stem] = torch.zeros((self.cqt[fn.stem].shape[0], 21))\n",
    "            instances = list(pd.read_csv(instances_path / f\"P-{fn.stem.split('_')[0]}/{fn.stem.split('_')[1]}.csv\", sep=\";\").itertuples(index=False, name=None))\n",
    "            for instance in instances:\n",
    "                motif = instance[0]\n",
    "                start = instance[1]\n",
    "                end = instance[2]\n",
    "                start_idx = int(round(start * 22050 / 512))\n",
    "                end_idx = int(round(end * 22050 / 512))\n",
    "                motif_idx = motif2idx[motif]\n",
    "                self.instances_gt[fn.stem][start_idx:end_idx, motif_idx] = 1\n",
    "\n",
    "            # Add \"none\" class to ground truth\n",
    "            self.instances_gt[fn.stem][:, -1] = 1 - self.instances_gt[fn.stem][:, :-1].max(dim=1).values\n",
    "            \n",
    "            # Sample leitmotif instances\n",
    "            samples_act = sample_instance_intervals(instances, duration_sec)\n",
    "            samples_act = [(fn.stem, x[0], int(round(x[1] * 22050 / 512)), int(round(x[1] * 22050 / 512) + duration_samples)) for x in samples_act]\n",
    "            self.samples.extend(samples_act)\n",
    "\n",
    "            # Sample non-leitmotif instances\n",
    "            total_duration = self.cqt[fn.stem].shape[0] * 512 // 22050\n",
    "            occupied = instances.copy()\n",
    "            none_intervals = generate_non_overlapping_intervals(instances, total_duration)\n",
    "            none_samples_act = []\n",
    "            depleted = False\n",
    "            while not depleted:\n",
    "                samp = sample_non_overlapping_interval(none_intervals, duration_sec)\n",
    "                if samp is None:\n",
    "                    depleted = True\n",
    "                else:\n",
    "                    occupied.append((None, samp[0], samp[1]))\n",
    "                    none_intervals = generate_non_overlapping_intervals(occupied, total_duration)\n",
    "                    none_samples_act.append(samp)\n",
    "            none_samples_act.sort(key=lambda x: x[0])\n",
    "            none_samples_act = [(fn.stem, int(round(x[0] * 22050 / 512)), int(round(x[0] * 22050 / 512) + duration_samples)) for x in none_samples_act]\n",
    "            self.none_samples.extend(none_samples_act)\n",
    "\n",
    "    def __len__(self):\n",
    "        return len(self.samples) + len(self.none_samples)\n",
    "    \n",
    "    def __getitem__(self, idx):\n",
    "        if idx < len(self.samples):\n",
    "            fn, _, start, end = self.samples[idx]\n",
    "            return self.cqt[fn][start:end, :], self.instances_gt[fn][start:end, :]\n",
    "        else:\n",
    "            idx -= len(self.samples)\n",
    "            fn, start, end = self.none_samples[idx]\n",
    "            return self.cqt[fn][start:end, :], torch.zeros((end - start, 20))"
   ]
  },
  {
   "cell_type": "code",
   "execution_count": 14,
   "metadata": {},
   "outputs": [
    {
     "name": "stdout",
     "output_type": "stream",
     "text": [
      "Creating dataset...\n"
     ]
    },
    {
     "data": {
      "application/vnd.jupyter.widget-view+json": {
       "model_id": "ecd6b2e326dc4dac9f8dc92483c86a10",
       "version_major": 2,
       "version_minor": 0
      },
      "text/plain": [
       "  0%|          | 0/33 [00:00<?, ?it/s]"
      ]
     },
     "metadata": {},
     "output_type": "display_data"
    }
   ],
   "source": [
    "dataset = LeitmotifDataset(Path(\"data/CQT\"), Path(\"data/LeitmotifOccurrencesInstances/Instances\"))"
   ]
  },
  {
   "cell_type": "code",
   "execution_count": 7,
   "metadata": {},
   "outputs": [
    {
     "data": {
      "image/png": "[encoded data removed]",
      "text/plain": [
       "<Figure size 6000x2100 with 1 Axes>"
      ]
     },
     "metadata": {},
     "output_type": "display_data"
    }
   ],
   "source": [
    "import matplotlib.pyplot as plt\n",
    "fig, ax = plt.subplots(figsize=(20, 7), dpi=300)\n",
    "im = ax.imshow(dataset.instances_gt[\"Fu_A\"].T, origin=\"upper\", aspect=\"auto\", interpolation=\"none\", cmap=\"binary\")\n",
    "ax.yaxis.set_minor_locator(plt.MultipleLocator(0.5))\n",
    "ax.set_yticks(range(21))\n",
    "ax.set_yticklabels(idx2motif + [\"None\"])\n",
    "ax.tick_params(axis=\"y\", which=\"minor\", length=0)\n",
    "plt.grid(axis=\"y\", which=\"minor\")\n",
    "plt.show()"
   ]
  },
  {
   "cell_type": "code",
   "execution_count": 1,
   "metadata": {},
   "outputs": [
    {
     "name": "stdout",
     "output_type": "stream",
     "text": [
      "Creating dataset...\n"
     ]
    },
    {
     "data": {
      "application/vnd.jupyter.widget-view+json": {
       "model_id": "ed7711e959d7426f9bf7ad675c6275c9",
       "version_major": 2,
       "version_minor": 0
      },
      "text/plain": [
       "  0%|          | 0/121 [00:00<?, ?it/s]"
      ]
     },
     "metadata": {},
     "output_type": "display_data"
    }
   ],
   "source": [
    "from pathlib import Path\n",
    "from dataset import LeitmotifDataset\n",
    "dataset = LeitmotifDataset(Path(\"data/CQT\"), Path(\"data/LeitmotifOccurrencesInstances/Instances\"))"
   ]
  },
  {
   "cell_type": "code",
   "execution_count": 5,
   "metadata": {},
   "outputs": [
    {
     "data": {
      "text/plain": [
       "('Ka', 'D-1', 208038, 208684)"
      ]
     },
     "execution_count": 5,
     "metadata": {},
     "output_type": "execute_result"
    }
   ],
   "source": [
    "dataset.none_samples[49750 - len(dataset.samples)]"
   ]
  },
  {
   "cell_type": "code",
   "execution_count": 6,
   "metadata": {},
   "outputs": [
    {
     "data": {
      "text/plain": [
       "torch.Size([216861, 84])"
      ]
     },
     "execution_count": 6,
     "metadata": {},
     "output_type": "execute_result"
    }
   ],
   "source": [
    "dataset.cqt['Ka_D-1'].shape"
   ]
  },
  {
   "cell_type": "code",
   "execution_count": 9,
   "metadata": {},
   "outputs": [
    {
     "name": "stdout",
     "output_type": "stream",
     "text": [
      "Bh_B-3 Feuerzauber 3661\n"
     ]
    }
   ],
   "source": [
    "print(version, motif, start_sec)"
   ]
  },
  {
   "cell_type": "code",
   "execution_count": 4,
   "metadata": {},
   "outputs": [
    {
     "data": {
      "text/plain": [
       "False"
      ]
     },
     "execution_count": 4,
     "metadata": {},
     "output_type": "execute_result"
    }
   ],
   "source": [
    "\"P-Bö\" == \"P-Bö\""
   ]
  },
  {
   "cell_type": "code",
   "execution_count": 3,
   "metadata": {},
   "outputs": [],
   "source": [
    "singing_csv_fns = sorted(list(Path(\"data/WagnerRing_Public/02_Annotations/ann_audio_singing\").glob(\"*.csv\")))"
   ]
  },
  {
   "cell_type": "code",
   "execution_count": 12,
   "metadata": {},
   "outputs": [
    {
     "data": {
      "text/plain": [
       "'B-1'"
      ]
     },
     "execution_count": 12,
     "metadata": {},
     "output_type": "execute_result"
    }
   ],
   "source": [
    "singing_csv_fns[18].stem.split('_')[1][6:]"
   ]
  },
  {
   "cell_type": "code",
   "execution_count": 17,
   "metadata": {},
   "outputs": [
    {
     "data": {
      "text/plain": [
       "[PosixPath('data/WagnerRing_Public/02_Annotations/ann_audio_singing/Wagner_WWV086B-3_Neuhold1993.csv')]"
      ]
     },
     "execution_count": 17,
     "metadata": {},
     "output_type": "execute_result"
    }
   ],
   "source": [
    "from data_utils import id2version\n",
    "\n",
    "id = 'Ne'\n",
    "act = 'B-3'\n",
    "\n",
    "version = id2version[id]\n",
    "\n",
    "result_fns = [\n",
    "    fn for fn in singing_csv_fns\n",
    "    if fn.stem.split('_')[2] == version and fn.stem.split('_')[1][6:] == act\n",
    "]\n",
    "\n",
    "result_fns"
   ]
  },
  {
   "cell_type": "code",
   "execution_count": 18,
   "metadata": {},
   "outputs": [],
   "source": [
    "id = 'Ne'\n",
    "\n",
    "version = id2version[id]\n",
    "\n",
    "result_fns = [\n",
    "    fn for fn in singing_csv_fns\n",
    "    if fn.stem.split('_')[2] == version\n",
    "]"
   ]
  },
  {
   "cell_type": "code",
   "execution_count": 50,
   "metadata": {},
   "outputs": [],
   "source": [
    "names = []\n",
    "for fn in result_fns:\n",
    "    act_names = pd.read_csv(fn, sep=';')[\"person\"].unique()\n",
    "    for x in act_names:\n",
    "        split = [\n",
    "            x.lower().replace(' und ', ',').replace(' ', '').split(',')\n",
    "            for x in act_names\n",
    "        ]\n",
    "        split = [item for sublist in split for item in sublist]\n",
    "        names.extend(split)\n",
    "names = sorted(list(set(names)))"
   ]
  },
  {
   "cell_type": "code",
   "execution_count": 51,
   "metadata": {},
   "outputs": [
    {
     "data": {
      "text/plain": [
       "['1manne(b)',\n",
       " '1manne(b1)',\n",
       " '1manne(b2)',\n",
       " '1manne(t)',\n",
       " '1manne(t2)',\n",
       " '2mannen(b)',\n",
       " '2mannen(b1)',\n",
       " '2mannen(b2)',\n",
       " '2mannen(t1)',\n",
       " '2mannen(t2)',\n",
       " '3mannen(b1)',\n",
       " '3mannen(b2)',\n",
       " '3mannen(t1',\n",
       " '3mannen(t2)',\n",
       " '4mannen(b)',\n",
       " '4mannen(b1)',\n",
       " '4mannen(b2)',\n",
       " '4mannen(t1)',\n",
       " '6mannen(b1',\n",
       " '6mannen(t1',\n",
       " '8mannen(t1',\n",
       " 'achtwalküren',\n",
       " 'alberich',\n",
       " 'allemannen(b1',\n",
       " 'allemannen(t1',\n",
       " 'b1',\n",
       " 'b1)',\n",
       " 'b2)',\n",
       " 'brünnhilde',\n",
       " 'derwaldvogel',\n",
       " 'derwanderer',\n",
       " 'donner',\n",
       " 'drittenorn',\n",
       " 'erda',\n",
       " 'erstenorn',\n",
       " 'fafner',\n",
       " 'fasolt',\n",
       " 'floßhilde',\n",
       " 'frauen',\n",
       " 'freia',\n",
       " 'fricka',\n",
       " 'froh',\n",
       " 'gerhilde',\n",
       " 'grimgerde',\n",
       " 'gunther',\n",
       " 'gutrune',\n",
       " 'hagen',\n",
       " 'helmwige',\n",
       " 'hunding',\n",
       " 'loge',\n",
       " 'mannen',\n",
       " 'mannen(b1',\n",
       " 'mannen(b1)',\n",
       " 'mannen(b2',\n",
       " 'mannen(b2)',\n",
       " 'mannen(t1',\n",
       " 'mannen(t1)',\n",
       " 'mannen(t2',\n",
       " 'mannen(t2)',\n",
       " 'mime',\n",
       " 'ortlinde',\n",
       " 'rossweisse',\n",
       " 'schwertleite',\n",
       " 'siegfried',\n",
       " 'sieglinde',\n",
       " 'siegmund',\n",
       " 'siegrune',\n",
       " 't1',\n",
       " 't2',\n",
       " 't2)',\n",
       " 'waltraute',\n",
       " 'wellgunde',\n",
       " 'woglinde',\n",
       " 'wotan',\n",
       " 'zweitenorn']"
      ]
     },
     "execution_count": 51,
     "metadata": {},
     "output_type": "execute_result"
    }
   ],
   "source": [
    "names"
   ]
  },
  {
   "cell_type": "code",
   "execution_count": 52,
   "metadata": {},
   "outputs": [
    {
     "data": {
      "text/plain": [
       "75"
      ]
     },
     "execution_count": 52,
     "metadata": {},
     "output_type": "execute_result"
    }
   ],
   "source": [
    "len(names)"
   ]
  },
  {
   "cell_type": "code",
   "execution_count": 1,
   "metadata": {},
   "outputs": [],
   "source": [
    "d = {\n",
    "    'A': [1, 2, 3],\n",
    "    'DA': [4, 5, 6],\n",
    "    'B': [7, 8, 9],\n",
    "    'DB': [10, 11, 12],\n",
    "}"
   ]
  },
  {
   "cell_type": "code",
   "execution_count": 5,
   "metadata": {},
   "outputs": [],
   "source": [
    "d1 = {k: v for k, v in d.items() if 'A' in k}"
   ]
  },
  {
   "cell_type": "code",
   "execution_count": 13,
   "metadata": {},
   "outputs": [
    {
     "data": {
      "text/plain": [
       "True"
      ]
     },
     "execution_count": 13,
     "metadata": {},
     "output_type": "execute_result"
    }
   ],
   "source": [
    "id(d['A']) == id(d1['A'])"
   ]
  },
  {
   "cell_type": "code",
   "execution_count": 3,
   "metadata": {},
   "outputs": [
    {
     "data": {
      "text/plain": [
       "dict_items([('A', [1, 2, 3]), ('DA', [4, 5, 6]), ('B', [7, 8, 9]), ('DB', [10, 11, 12])])"
      ]
     },
     "execution_count": 3,
     "metadata": {},
     "output_type": "execute_result"
    }
   ],
   "source": [
    "d.items()"
   ]
  },
  {
   "cell_type": "code",
   "execution_count": 4,
   "metadata": {},
   "outputs": [
    {
     "name": "stdout",
     "output_type": "stream",
     "text": [
      "<class 'str'> <class 'list'>\n",
      "<class 'str'> <class 'list'>\n",
      "<class 'str'> <class 'list'>\n",
      "<class 'str'> <class 'list'>\n"
     ]
    }
   ],
   "source": [
    "for k, v in d.items():\n",
    "    print(type(k), type(v))"
   ]
  },
  {
   "cell_type": "code",
   "execution_count": 1,
   "metadata": {},
   "outputs": [
    {
     "name": "stdout",
     "output_type": "stream",
     "text": [
      "Loading data...\n"
     ]
    },
    {
     "data": {
      "application/vnd.jupyter.widget-view+json": {
       "model_id": "0d69a76a782348bfb13755f8154ed85f",
       "version_major": 2,
       "version_minor": 0
      },
      "text/plain": [
       "  0%|          | 0/121 [00:00<?, ?it/s]"
      ]
     },
     "metadata": {},
     "output_type": "display_data"
    },
    {
     "name": "stdout",
     "output_type": "stream",
     "text": [
      "Sampling intervals...\n"
     ]
    },
    {
     "data": {
      "application/vnd.jupyter.widget-view+json": {
       "model_id": "ae04f5bf58264b31a315302794f37ebf",
       "version_major": 2,
       "version_minor": 0
      },
      "text/plain": [
       "  0%|          | 0/121 [00:00<?, ?it/s]"
      ]
     },
     "metadata": {},
     "output_type": "display_data"
    }
   ],
   "source": [
    "from dataset import LeitmotifDataset\n",
    "from pathlib import Path\n",
    "\n",
    "dataset = LeitmotifDataset(Path(\"data/CQT\"),\n",
    "                                Path(\"data/LeitmotifOccurrencesInstances/Instances\"),\n",
    "                                Path(\"data/WagnerRing_Public/02_Annotations/ann_audio_singing\"))"
   ]
  },
  {
   "cell_type": "code",
   "execution_count": 6,
   "metadata": {},
   "outputs": [
    {
     "data": {
      "text/plain": [
       "torch.Size([84])"
      ]
     },
     "execution_count": 6,
     "metadata": {},
     "output_type": "execute_result"
    }
   ],
   "source": [
    "dataset.cqt['Bh_A'][0].shape"
   ]
  },
  {
   "cell_type": "code",
   "execution_count": 10,
   "metadata": {},
   "outputs": [
    {
     "data": {
      "text/plain": [
       "tensor([7, 8, 9])"
      ]
     },
     "execution_count": 10,
     "metadata": {},
     "output_type": "execute_result"
    }
   ],
   "source": [
    "import torch\n",
    "t = torch.tensor([1, 2, 3, 4, 5, 6, 7, 8, 9])\n",
    "t[-3:14]"
   ]
  },
  {
   "cell_type": "code",
   "execution_count": 11,
   "metadata": {},
   "outputs": [
    {
     "data": {
      "text/plain": [
       "tensor([[[ 0.,  0.,  2.,  2.,  4.,  4.,  6.,  6.,  8.,  8., 10., 10., 12., 12.,\n",
       "          14., 14., 25., 25.]]])"
      ]
     },
     "execution_count": 11,
     "metadata": {},
     "output_type": "execute_result"
    }
   ],
   "source": [
    "import torch\n",
    "t = torch.tensor([0, 2, 4, 6, 8, 10, 12, 14, 25])\n",
    "torch.nn.functional.interpolate(t.unsqueeze(0).unsqueeze(0).float(), size=18, mode='nearest')"
   ]
  },
  {
   "cell_type": "code",
   "execution_count": 16,
   "metadata": {},
   "outputs": [
    {
     "data": {
      "text/plain": [
       "1"
      ]
     },
     "execution_count": 16,
     "metadata": {},
     "output_type": "execute_result"
    }
   ],
   "source": [
    "t = torch.randn((10, 3))\n",
    "y = torch.tensor([1, 2, 3])\n",
    "y.dim()\n",
    "# t[3, :] = y\n",
    "# t"
   ]
  },
  {
   "cell_type": "markdown",
   "metadata": {},
   "source": [
    "# inference test"
   ]
  },
  {
   "cell_type": "code",
   "execution_count": 17,
   "metadata": {},
   "outputs": [],
   "source": [
    "from pathlib import Path\n",
    "import torch\n",
    "import pandas as pd\n",
    "import hydra\n",
    "from omegaconf import DictConfig, OmegaConf\n",
    "from tqdm.auto import tqdm\n",
    "from dataset import LeitmotifDataset, Subset, collate_fn\n",
    "from data_utils import id2version\n",
    "from modules import RNNModel, CNNModel\n",
    "import constants as C"
   ]
  },
  {
   "cell_type": "code",
   "execution_count": 129,
   "metadata": {},
   "outputs": [],
   "source": [
    "def infer_rnn(model, cqt):\n",
    "    leitmotif_out = torch.zeros((cqt.shape[0], 21))\n",
    "    singing_out = torch.zeros((cqt.shape[0], 1))\n",
    "    model.eval()\n",
    "    with torch.inference_mode():\n",
    "        hidden = None\n",
    "        for i, x in enumerate(tqdm(cqt, leave=False)):\n",
    "            x = x.unsqueeze(0).unsqueeze(0)\n",
    "            lstm_out, h = model.lstm(x, hidden)\n",
    "            lstm_out = lstm_out.transpose(1, 2)\n",
    "            lstm_out = model.batch_norm(lstm_out)\n",
    "            lstm_out = lstm_out.transpose(1, 2)\n",
    "            leitmotif_pred = model.proj(lstm_out).sigmoid()\n",
    "            singing_pred = model.singing_mlp(lstm_out)\n",
    "            hidden = (h[0].detach(), h[1].detach())\n",
    "            leitmotif_out[i, :] = leitmotif_pred.squeeze()\n",
    "            singing_out[i, :] = singing_pred.squeeze()\n",
    "    return leitmotif_out, singing_out\n",
    "\n",
    "def infer_cnn(model, cqt, duration_samples=646, overlap=236):\n",
    "    increment = duration_samples - overlap\n",
    "    leitmotif_out = torch.zeros((cqt.shape[0], 21))\n",
    "    singing_out = torch.zeros((cqt.shape[0], 1))\n",
    "    model.eval()\n",
    "    with torch.inference_mode():\n",
    "        for i in tqdm(range(0, cqt.shape[0], increment), leave=False):\n",
    "            x = cqt[i:i+duration_samples, :]\n",
    "            if x.shape[0] <= overlap//2:\n",
    "                break\n",
    "            x = x.unsqueeze(0)\n",
    "            leitmotif_pred, singing_pred, _ = model(x)\n",
    "            # target and source slice positions\n",
    "            t_start = i + (overlap//2)\n",
    "            t_end = min(i + duration_samples - (overlap//2), cqt.shape[0])\n",
    "            s_start = overlap//2\n",
    "            s_end = -overlap//2 if t_end < cqt.shape[0] else None\n",
    "            leitmotif_out[t_start:t_end, :] = leitmotif_pred.squeeze()[s_start:s_end, :]\n",
    "            singing_out[t_start:t_end] = singing_pred.squeeze(0)[s_start:s_end]\n",
    "    return leitmotif_out, singing_out\n",
    "\n",
    "def medfilt(x, k=21):\n",
    "    assert x.dim() == 1\n",
    "    k2 = (k - 1) // 2\n",
    "    y = torch.zeros((len(x), k), dtype=x.dtype)\n",
    "    y[:, k2] = x\n",
    "    for i in range(k2):\n",
    "        j = k2 - i\n",
    "        y[j:, i] = x[:-j]\n",
    "        y[:j, i] = x[0]\n",
    "        y[:-j, -(i+1)] = x[j:]\n",
    "        y[-j:, -(i+1)] = x[-1]\n",
    "    return torch.median(y, dim=1).values"
   ]
  },
  {
   "cell_type": "code",
   "execution_count": 113,
   "metadata": {},
   "outputs": [],
   "source": [
    "split = 'version'\n",
    "m = 'CNN'"
   ]
  },
  {
   "cell_type": "code",
   "execution_count": 114,
   "metadata": {},
   "outputs": [
    {
     "name": "stdout",
     "output_type": "stream",
     "text": [
      "Loading data...\n"
     ]
    },
    {
     "data": {
      "application/vnd.jupyter.widget-view+json": {
       "model_id": "488aba0f79f04f34b2e9f22748c152f5",
       "version_major": 2,
       "version_minor": 0
      },
      "text/plain": [
       "  0%|          | 0/121 [00:00<?, ?it/s]"
      ]
     },
     "metadata": {},
     "output_type": "display_data"
    },
    {
     "name": "stdout",
     "output_type": "stream",
     "text": [
      "Sampling intervals...\n"
     ]
    },
    {
     "data": {
      "application/vnd.jupyter.widget-view+json": {
       "model_id": "85d75aaf6d374aa8b04426b7c129a58a",
       "version_major": 2,
       "version_minor": 0
      },
      "text/plain": [
       "  0%|          | 0/121 [00:00<?, ?it/s]"
      ]
     },
     "metadata": {},
     "output_type": "display_data"
    },
    {
     "data": {
      "text/plain": [
       "CNNModel(\n",
       "  (stack1): Sequential(\n",
       "    (0): Conv2d(1, 128, kernel_size=(3, 3), stride=(1, 1), padding=same)\n",
       "    (1): LeakyReLU(negative_slope=0.2)\n",
       "    (2): BatchNorm2d(128, eps=1e-05, momentum=0.1, affine=True, track_running_stats=True)\n",
       "    (3): Conv2d(128, 64, kernel_size=(3, 3), stride=(1, 1), padding=same)\n",
       "    (4): LeakyReLU(negative_slope=0.2)\n",
       "    (5): BatchNorm2d(64, eps=1e-05, momentum=0.1, affine=True, track_running_stats=True)\n",
       "    (6): DilatedMaxPool2d(\n",
       "      (maxpool): MaxPool2d(kernel_size=(3, 3), stride=(1, 3), padding=0, dilation=(1, 1), ceil_mode=True)\n",
       "    )\n",
       "    (7): Conv2d(64, 128, kernel_size=(3, 3), stride=(1, 1), padding=same, dilation=(3, 1))\n",
       "    (8): LeakyReLU(negative_slope=0.2)\n",
       "    (9): BatchNorm2d(128, eps=1e-05, momentum=0.1, affine=True, track_running_stats=True)\n",
       "    (10): Conv2d(128, 64, kernel_size=(3, 3), stride=(1, 1), padding=same, dilation=(3, 1))\n",
       "    (11): LeakyReLU(negative_slope=0.2)\n",
       "    (12): BatchNorm2d(64, eps=1e-05, momentum=0.1, affine=True, track_running_stats=True)\n",
       "    (13): DilatedMaxPool2d(\n",
       "      (maxpool): MaxPool2d(kernel_size=(3, 3), stride=(1, 3), padding=0, dilation=(3, 1), ceil_mode=True)\n",
       "    )\n",
       "    (14): Conv2d(64, 128, kernel_size=(3, 3), stride=(1, 1), padding=same, dilation=(9, 1))\n",
       "    (15): LeakyReLU(negative_slope=0.2)\n",
       "    (16): BatchNorm2d(128, eps=1e-05, momentum=0.1, affine=True, track_running_stats=True)\n",
       "    (17): Conv2d(128, 64, kernel_size=(3, 3), stride=(1, 1), padding=same, dilation=(9, 1))\n",
       "    (18): LeakyReLU(negative_slope=0.2)\n",
       "    (19): BatchNorm2d(64, eps=1e-05, momentum=0.1, affine=True, track_running_stats=True)\n",
       "    (20): DilatedMaxPool2d(\n",
       "      (maxpool): MaxPool2d(kernel_size=(3, 3), stride=(1, 3), padding=0, dilation=(9, 1), ceil_mode=True)\n",
       "    )\n",
       "    (21): Conv2d(64, 64, kernel_size=(1, 4), stride=(1, 1))\n",
       "    (22): LeakyReLU(negative_slope=0.2)\n",
       "    (23): BatchNorm2d(64, eps=1e-05, momentum=0.1, affine=True, track_running_stats=True)\n",
       "  )\n",
       "  (stack2): Sequential(\n",
       "    (0): Conv1d(64, 128, kernel_size=(3,), stride=(1,), padding=same, dilation=(27,))\n",
       "    (1): LeakyReLU(negative_slope=0.2)\n",
       "    (2): BatchNorm1d(128, eps=1e-05, momentum=0.1, affine=True, track_running_stats=True)\n",
       "    (3): Conv1d(128, 64, kernel_size=(3,), stride=(1,), padding=same, dilation=(27,))\n",
       "    (4): LeakyReLU(negative_slope=0.2)\n",
       "    (5): BatchNorm1d(64, eps=1e-05, momentum=0.1, affine=True, track_running_stats=True)\n",
       "    (6): DilatedMaxPool1d(\n",
       "      (maxpool): MaxPool1d(kernel_size=3, stride=1, padding=0, dilation=27, ceil_mode=True)\n",
       "    )\n",
       "  )\n",
       "  (proj): Linear(in_features=64, out_features=21, bias=True)\n",
       "  (singing_mlp): Sequential(\n",
       "    (0): Linear(in_features=64, out_features=64, bias=True)\n",
       "    (1): ReLU()\n",
       "    (2): Linear(in_features=64, out_features=1, bias=True)\n",
       "    (3): Sigmoid()\n",
       "  )\n",
       "  (version_mlp): Sequential(\n",
       "    (0): Linear(in_features=64, out_features=64, bias=True)\n",
       "    (1): ReLU()\n",
       "    (2): Linear(in_features=64, out_features=8, bias=True)\n",
       "    (3): Sigmoid()\n",
       "  )\n",
       ")"
      ]
     },
     "execution_count": 114,
     "metadata": {},
     "output_type": "execute_result"
    }
   ],
   "source": [
    "DEV = \"cuda\" if torch.cuda.is_available() else \"cpu\"\n",
    "\n",
    "dataset = LeitmotifDataset(Path(\"data/CQT\"),\n",
    "                            Path(\"data/LeitmotifOccurrencesInstances/Instances\"),\n",
    "                            Path(\"data/WagnerRing_Public/02_Annotations/ann_audio_singing\"))\n",
    "\n",
    "files = []\n",
    "cqt = {}\n",
    "instances_gt = {}\n",
    "singing_gt = {}\n",
    "if split == \"version\":\n",
    "    cqt = {k: v for k, v in dataset.cqt.items() if k.split(\"_\")[0] in C.VALID_VERSIONS}\n",
    "    instances_gt = {k: v for k, v in dataset.instances_gt.items() if k.split(\"_\")[0] in C.VALID_VERSIONS}\n",
    "    singing_gt = {k: v for k, v in dataset.singing_gt.items() if k.split(\"_\")[0] in C.VALID_VERSIONS}\n",
    "    files = [k for k in cqt.keys()]\n",
    "elif split == \"act\":\n",
    "    cqt = {k: v for k, v in dataset.cqt.items() if k.split(\"_\")[1] in C.VALID_ACTS}\n",
    "    instances_gt = {k: v for k, v in dataset.instances_gt.items() if k.split(\"_\")[1] in C.VALID_ACTS}\n",
    "    singing_gt = {k: v for k, v in dataset.singing_gt.items() if k.split(\"_\")[1] in C.VALID_ACTS}\n",
    "    files = [k for k in cqt.keys()]\n",
    "\n",
    "model = None\n",
    "if m == \"RNN\":\n",
    "    model = RNNModel()\n",
    "elif m == \"CNN\":\n",
    "    model = CNNModel()\n",
    "else:\n",
    "    raise ValueError(\"Invalid model name\")\n",
    "model.to(DEV)"
   ]
  },
  {
   "cell_type": "code",
   "execution_count": 130,
   "metadata": {},
   "outputs": [
    {
     "data": {
      "application/vnd.jupyter.widget-view+json": {
       "model_id": "06fa9a4e92154a62b6df5c6e34b426de",
       "version_major": 2,
       "version_minor": 0
      },
      "text/plain": [
       "  0%|          | 0/919 [00:00<?, ?it/s]"
      ]
     },
     "metadata": {},
     "output_type": "display_data"
    }
   ],
   "source": [
    "fn = files[0]\n",
    "leitmotif_pred = []\n",
    "singing_pred = []\n",
    "cqt_fn = cqt[fn]\n",
    "cqt_fn = cqt_fn.to(DEV)\n",
    "if m == \"RNN\":\n",
    "    leitmotif_pred, singing_pred = infer_rnn(model, cqt_fn)\n",
    "elif m == \"CNN\":\n",
    "    leitmotif_pred, singing_pred = infer_cnn(model, cqt_fn)"
   ]
  },
  {
   "cell_type": "code",
   "execution_count": 131,
   "metadata": {},
   "outputs": [],
   "source": [
    "for i in range(leitmotif_pred.shape[1]):\n",
    "    leitmotif_pred[:, i] = medfilt(leitmotif_pred[:, i])"
   ]
  },
  {
   "cell_type": "code",
   "execution_count": 132,
   "metadata": {},
   "outputs": [],
   "source": [
    "version = fn.split(\"_\")[0]\n",
    "act = fn.split(\"_\")[1]\n",
    "measures = pd.read_csv(f\"data/WagnerRing_Public/02_Annotations/ann_audio_measure/Wagner_WWV086{act}_{id2version[version]}.csv\", sep=';').itertuples(index=False, name=None)\n",
    "subdivision_points = []\n",
    "last_m = 0\n",
    "for measure in measures:\n",
    "    m = measure[0]\n",
    "    diff = m - last_m\n",
    "    if last_m == 0:\n",
    "        last_m = m\n",
    "        continue\n",
    "    subdiv_length = diff / 16\n",
    "    for i in range(16):\n",
    "        subdiv_point = round((last_m + i * subdiv_length) * 22050 / 512)\n",
    "        subdivision_points.append(subdiv_point)\n",
    "    last_m = m"
   ]
  },
  {
   "cell_type": "code",
   "execution_count": 133,
   "metadata": {},
   "outputs": [],
   "source": [
    "leitmotif_out = torch.zeros(len(subdivision_points)-1, leitmotif_pred.shape[1])\n",
    "leitmotif_gt = torch.zeros(len(subdivision_points)-1, leitmotif_pred.shape[1])\n",
    "for i in range(len(subdivision_points)-1):\n",
    "    start = subdivision_points[i]\n",
    "    end = subdivision_points[i+1]\n",
    "    leitmotif_out[i, :] = leitmotif_pred[start:end, :].max(dim=0).values\n",
    "    leitmotif_gt[i, :] = instances_gt[fn][start:end, :].max(dim=0).values"
   ]
  },
  {
   "cell_type": "code",
   "execution_count": 134,
   "metadata": {},
   "outputs": [
    {
     "data": {
      "text/plain": [
       "torch.Size([376721, 21])"
      ]
     },
     "execution_count": 134,
     "metadata": {},
     "output_type": "execute_result"
    }
   ],
   "source": [
    "instances_gt[fn].shape"
   ]
  },
  {
   "cell_type": "code",
   "execution_count": 5,
   "metadata": {},
   "outputs": [
    {
     "data": {
      "text/plain": [
       "0.7310585975646973"
      ]
     },
     "execution_count": 5,
     "metadata": {},
     "output_type": "execute_result"
    }
   ],
   "source": [
    "import torch\n",
    "torch.sigmoid(torch.tensor(1)).item()"
   ]
  },
  {
   "cell_type": "code",
   "execution_count": 2,
   "metadata": {},
   "outputs": [
    {
     "name": "stdout",
     "output_type": "stream",
     "text": [
      "torch.Size([46868010])\n"
     ]
    }
   ],
   "source": [
    "import torch\n",
    "import torchaudio\n",
    "\n",
    "y = torch.load(\"data/wav-22050/Bh_D-0.pt\")\n",
    "print(y.shape)"
   ]
  },
  {
   "cell_type": "code",
   "execution_count": 6,
   "metadata": {},
   "outputs": [
    {
     "name": "stdout",
     "output_type": "stream",
     "text": [
      "torch.Size([84, 91540])\n"
     ]
    }
   ],
   "source": [
    "t = torchaudio.transforms.MelSpectrogram(sample_rate=22050, n_fft=1024, hop_length=512, n_mels=84)\n",
    "spec = t(y)\n",
    "print(spec.shape)"
   ]
  },
  {
   "cell_type": "code",
   "execution_count": 1,
   "metadata": {},
   "outputs": [
    {
     "name": "stdout",
     "output_type": "stream",
     "text": [
      "Loading data...\n"
     ]
    },
    {
     "data": {
      "application/vnd.jupyter.widget-view+json": {
       "model_id": "7e24e3ef02d548f1b2496f1de407f87a",
       "version_major": 2,
       "version_minor": 0
      },
      "text/plain": [
       "  0%|          | 0/121 [00:00<?, ?it/s]"
      ]
     },
     "metadata": {},
     "output_type": "display_data"
    },
    {
     "name": "stdout",
     "output_type": "stream",
     "text": [
      "Sampling intervals...\n"
     ]
    },
    {
     "data": {
      "application/vnd.jupyter.widget-view+json": {
       "model_id": "234fe3a594e7484fbc532f0d66e1c943",
       "version_major": 2,
       "version_minor": 0
      },
      "text/plain": [
       "  0%|          | 0/121 [00:00<?, ?it/s]"
      ]
     },
     "metadata": {},
     "output_type": "display_data"
    }
   ],
   "source": [
    "from dataset import AudioDataset\n",
    "from pathlib import Path\n",
    "\n",
    "dataset = AudioDataset(Path(\"data/wav-22050\"),\n",
    "                       Path(\"data/LeitmotifOccurrencesInstances/Instances\"),\n",
    "                       Path(\"data/WagnerRing_Public/02_Annotations/ann_audio_singing\"))"
   ]
  },
  {
   "cell_type": "code",
   "execution_count": 6,
   "metadata": {},
   "outputs": [
    {
     "data": {
      "text/plain": [
       "59278"
      ]
     },
     "execution_count": 6,
     "metadata": {},
     "output_type": "execute_result"
    }
   ],
   "source": [
    "len(dataset)"
   ]
  },
  {
   "cell_type": "code",
   "execution_count": 9,
   "metadata": {},
   "outputs": [
    {
     "data": {
      "text/plain": [
       "torch.Size([646, 84])"
      ]
     },
     "execution_count": 9,
     "metadata": {},
     "output_type": "execute_result"
    },
    {
     "ename": "",
     "evalue": "",
     "output_type": "error",
     "traceback": [
      "\u001b[1;31mThe Kernel crashed while executing code in the current cell or a previous cell. \n",
      "\u001b[1;31mPlease review the code in the cell(s) to identify a possible cause of the failure. \n",
      "\u001b[1;31mClick <a href='https://aka.ms/vscodeJupyterKernelCrash'>here</a> for more info. \n",
      "\u001b[1;31mView Jupyter <a href='command:jupyter.viewOutput'>log</a> for further details."
     ]
    }
   ],
   "source": [
    "dataset[59276][0].shape"
   ]
  },
  {
   "cell_type": "code",
   "execution_count": 12,
   "metadata": {},
   "outputs": [
    {
     "data": {
      "text/plain": [
       "88"
      ]
     },
     "execution_count": 12,
     "metadata": {},
     "output_type": "execute_result"
    }
   ],
   "source": [
    "import random\n",
    "random.randint(0, 100)"
   ]
  },
  {
   "cell_type": "code",
   "execution_count": 39,
   "metadata": {},
   "outputs": [
    {
     "data": {
      "text/plain": [
       "0.9864968745843848"
      ]
     },
     "execution_count": 39,
     "metadata": {},
     "output_type": "execute_result"
    }
   ],
   "source": [
    "random.random()"
   ]
  },
  {
   "cell_type": "code",
   "execution_count": null,
   "metadata": {},
   "outputs": [],
   "source": [
    "-27.2866\n",
    "======\n",
    "-29.1 (0.9)\n",
    "-29.4806 (0.9)\n",
    "-29.5538 (0.5)\n",
    "-29.4662 (0.5)\n",
    "-29.0842 (0.3)\n"
   ]
  },
  {
   "cell_type": "code",
   "execution_count": 24,
   "metadata": {},
   "outputs": [
    {
     "data": {
      "application/vnd.jupyter.widget-view+json": {
       "model_id": "0d1e8d4791ba4dd3aa24ec521879377a",
       "version_major": 2,
       "version_minor": 0
      },
      "text/plain": [
       "  0%|          | 0/1000 [00:00<?, ?it/s]"
      ]
     },
     "metadata": {},
     "output_type": "display_data"
    },
    {
     "name": "stdout",
     "output_type": "stream",
     "text": [
      "tensor(-29.3375)\n"
     ]
    }
   ],
   "source": [
    "from tqdm.auto import tqdm\n",
    "\n",
    "mixup_ratio = 0.3\n",
    "\n",
    "# total = 0\n",
    "# for i in tqdm(range(1000)):\n",
    "#     total += torchaudio.functional.loudness(dataset.get_wav(i).unsqueeze(0), 22050)\n",
    "# print(total / 1000)\n",
    "\n",
    "# total = 0\n",
    "# for i in tqdm(range(1000)):\n",
    "#     idx = random.randint(len(dataset.samples), len(dataset))\n",
    "#     y = dataset.get_wav(i) * (1 - mixup_ratio) + dataset.get_wav(idx) * mixup_ratio\n",
    "#     total += torchaudio.functional.loudness(y.unsqueeze(0), 22050)\n",
    "# print(total / 1000)\n",
    "\n",
    "total = 0\n",
    "for i in tqdm(range(1000)):\n",
    "    idx = random.randint(len(dataset.samples), len(dataset))\n",
    "    total += torchaudio.functional.loudness(dataset.get_wav(idx).unsqueeze(0), 22050)\n",
    "print(total / 1000)"
   ]
  },
  {
   "cell_type": "code",
   "execution_count": 49,
   "metadata": {},
   "outputs": [
    {
     "data": {
      "text/plain": [
       "torch.Size([646, 84])"
      ]
     },
     "execution_count": 49,
     "metadata": {},
     "output_type": "execute_result"
    }
   ],
   "source": [
    "dataset[0][0].T.shape"
   ]
  },
  {
   "cell_type": "code",
   "execution_count": 6,
   "metadata": {},
   "outputs": [
    {
     "data": {
      "text/plain": [
       "tensor(-27.5392)"
      ]
     },
     "execution_count": 6,
     "metadata": {},
     "output_type": "execute_result"
    }
   ],
   "source": [
    "import torchaudio\n",
    "torchaudio.functional.loudness(dataset.get_wav(1).unsqueeze(0), 22050)"
   ]
  },
  {
   "cell_type": "code",
   "execution_count": 43,
   "metadata": {},
   "outputs": [],
   "source": [
    "import pickle\n",
    "with open(\"data/CQT/Ke_D-0.pkl\", \"rb\") as f:\n",
    "    cqt = torch.tensor(pickle.load(f)).T"
   ]
  },
  {
   "cell_type": "code",
   "execution_count": 45,
   "metadata": {},
   "outputs": [
    {
     "data": {
      "text/plain": [
       "torch.Size([92228, 84])"
      ]
     },
     "execution_count": 45,
     "metadata": {},
     "output_type": "execute_result"
    }
   ],
   "source": [
    "cqt.shape"
   ]
  }
 ],
 "metadata": {
  "kernelspec": {
   "display_name": "Python 3",
   "language": "python",
   "name": "python3"
  },
  "language_info": {
   "codemirror_mode": {
    "name": "ipython",
    "version": 3
   },
   "file_extension": ".py",
   "mimetype": "text/x-python",
   "name": "python",
   "nbconvert_exporter": "python",
   "pygments_lexer": "ipython3",
   "version": "3.10.11"
  }
 },
 "nbformat": 4,
 "nbformat_minor": 2
}
